{
 "cells": [
  {
   "cell_type": "code",
   "execution_count": 2,
   "id": "c555ad86",
   "metadata": {},
   "outputs": [],
   "source": [
    "def check(no_of_days, row_num, b):\n",
    "\n",
    "  # to use the globally declared lists and strings\n",
    "    global staff_mails\n",
    "    global l2\n",
    "    global l3"
   ]
  },
  {
   "cell_type": "code",
   "execution_count": 3,
   "id": "683ce030",
   "metadata": {},
   "outputs": [],
   "source": [
    "import openpyxl\n",
    "import smtplib\n",
    "from email.mime.multipart import MIMEMultipart\n",
    "from email.mime.text import MIMEText"
   ]
  },
  {
   "cell_type": "code",
   "execution_count": 4,
   "id": "698d6030",
   "metadata": {},
   "outputs": [],
   "source": [
    "# loading the excel sheet\n",
    "book = openpyxl.load_workbook('student_record.xlsx')"
   ]
  },
  {
   "cell_type": "code",
   "execution_count": 33,
   "id": "7df65d0c",
   "metadata": {},
   "outputs": [
    {
     "name": "stdout",
     "output_type": "stream",
     "text": [
      "<openpyxl.workbook.workbook.Workbook object at 0x000001F2CE88D910>\n",
      "<Worksheet \"Sheet1\">\n"
     ]
    }
   ],
   "source": [
    "print(book)\n",
    "sheet = book['Sheet1']\n",
    "print(sheet)"
   ]
  },
  {
   "cell_type": "code",
   "execution_count": 10,
   "id": "0c726893",
   "metadata": {},
   "outputs": [],
   "source": [
    "# counting number of rows / students"
   ]
  },
  {
   "cell_type": "code",
   "execution_count": 34,
   "id": "0392b3b3",
   "metadata": {},
   "outputs": [
    {
     "name": "stdout",
     "output_type": "stream",
     "text": [
      "6\n"
     ]
    }
   ],
   "source": [
    "r = sheet.max_row\n",
    "print(r)"
   ]
  },
  {
   "cell_type": "code",
   "execution_count": null,
   "id": "6c36c443",
   "metadata": {},
   "outputs": [],
   "source": [
    "# variable for looping for input"
   ]
  },
  {
   "cell_type": "code",
   "execution_count": 11,
   "id": "0a58bc9e",
   "metadata": {},
   "outputs": [],
   "source": [
    "resp = 1"
   ]
  },
  {
   "cell_type": "code",
   "execution_count": 35,
   "id": "a8b06dd5",
   "metadata": {},
   "outputs": [
    {
     "name": "stdout",
     "output_type": "stream",
     "text": [
      "6\n"
     ]
    }
   ],
   "source": [
    "# counting number of columns / subjects\n",
    "c = sheet.max_column\n",
    "print(c)"
   ]
  },
  {
   "cell_type": "code",
   "execution_count": 37,
   "id": "77655f2e",
   "metadata": {},
   "outputs": [
    {
     "name": "stdout",
     "output_type": "stream",
     "text": [
      "[]\n"
     ]
    }
   ],
   "source": [
    "# list of students to remind\n",
    "l1 = []\n",
    "print(l1)"
   ]
  },
  {
   "cell_type": "code",
   "execution_count": 38,
   "id": "0d3f20aa",
   "metadata": {},
   "outputs": [
    {
     "name": "stdout",
     "output_type": "stream",
     "text": [
      "\n"
     ]
    }
   ],
   "source": [
    "# to concatenate list of roll numbers with\n",
    "# lack of attendance\n",
    "l2 = \"\"\n",
    "print(l2)"
   ]
  },
  {
   "cell_type": "code",
   "execution_count": 39,
   "id": "aa0cb3bb",
   "metadata": {},
   "outputs": [
    {
     "name": "stdout",
     "output_type": "stream",
     "text": [
      "[]\n"
     ]
    }
   ],
   "source": [
    "# list of roll numbers with lack of attendance\n",
    "l3 = []\n",
    "print(l3)"
   ]
  },
  {
   "cell_type": "code",
   "execution_count": 41,
   "id": "0cdf5e00",
   "metadata": {},
   "outputs": [
    {
     "name": "stdout",
     "output_type": "stream",
     "text": [
      "['swarajsolanke02@gmail.com', 'swarajsolanke2702@gmail.com']\n"
     ]
    }
   ],
   "source": [
    "# staff mail ids\n",
    "staff_mails = ['swarajsolanke02@gmail.com', 'swarajsolanke2702@gmail.com']\n",
    "\n",
    "# Warning messages\n",
    "m1 = \"warning!!! you can take only one more day leave for Data Engineering  class\"\n",
    "m2 = \"warning!!! you can take only one more day leave for Machine learning class\"\n",
    "m3 = \"warning!!! you can take only one more day leave for python class\"\n",
    "m4= \"warning!!! you can take only one more day leave for Computer vision class\"\n",
    "\n",
    "print(staff_mails)\n"
   ]
  },
  {
   "cell_type": "code",
   "execution_count": 43,
   "id": "83eb9133",
   "metadata": {},
   "outputs": [
    {
     "name": "stdout",
     "output_type": "stream",
     "text": [
      "saved!\n",
      "<openpyxl.workbook.workbook.Workbook object at 0x000001F2CE88D910>\n"
     ]
    }
   ],
   "source": [
    "def savefile():\n",
    "    book.save(r'student_record.xlsx')\n",
    "    print(\"saved!\")\n",
    "savefile()\n",
    "print(book)"
   ]
  },
  {
   "cell_type": "code",
   "execution_count": null,
   "id": "379afdeb",
   "metadata": {},
   "outputs": [],
   "source": [
    "def check(no_of_days, row_num, b):\n",
    "\n",
    "    # to use the globally declared lists and strings\n",
    "    global staff_mails\n",
    "    global l2\n",
    "    global l3\n",
    "\n",
    "    for student in range(0, len(row_num)):\n",
    "        # if total no.of.leaves equals threshold\n",
    "        if no_of_days[student] == 2:\n",
    "            if b == 1:\n",
    "                \n",
    "                # mail_id appending\n",
    "                l1.append(sheet.cell(row=row_num[student], column=2).value)\n",
    "                mailstu(l1, m1)  # sending mail\n",
    "            elif b == 2:\n",
    "                l1.append(sheet.cell(row=row_num[student], column=2).value)\n",
    "                mailstu(l1, m2)\n",
    "            elif b == 3:\n",
    "                l1.append(sheet.cell(row=row_num[student], column=2).value)\n",
    "                mailstu(l1, m3)\n",
    "\n",
    "            else:\n",
    "                l1.append(sheet.cell(row=row_num[student], column=2).value)\n",
    "                mailstu(l1, m4)\n",
    "\n",
    "        # if total.no.of.leaves > threshold\n",
    "        elif no_of_days[student] > 2:\n",
    "            if b == 1:\n",
    "\n",
    "                # adding roll no\n",
    "                l2 = l2+str(sheet.cell(row=row_num[student], column=1).value)\n",
    "\n",
    "                # student mail_id appending\n",
    "                l3.append(sheet.cell(row=row_num[student], column=2).value)\n",
    "                subject = \"Data Engineering\"  # subject based on the code number\n",
    "\n",
    "            elif b == 2:\n",
    "                l2 = l2+str(sheet.cell(row=row_num[student], column=1).value)\n",
    "                l3.append(sheet.cell(row=row_num[student], column=2).value)\n",
    "                subject = \"Machine learning\"\n",
    "            elif b == 3:\n",
    "                l2 = l2+str(sheet.cell(row=row_num[student], column=1).value)\n",
    "                l3.append(sheet.cell(row=row_num[student], column=2).value)\n",
    "                subject = \"python\"\n",
    "\n",
    "            else:\n",
    "                l2 = l2+str(sheet.cell(row=row_num[student], column=1).value)\n",
    "                l3.append(sheet.cell(row=row_num[student], column=2).value)\n",
    "                subject = \"Computer vision\"\n",
    "\n",
    "        # If threshold crossed, modify the message\n",
    "        if l2 != \"\" and len(l3) != 0:\n",
    "\n",
    "            # message for student\n",
    "            msg1 = \"you have lack of attendance in \" + subject + \" !!!\"\n",
    "\n",
    "            # message for staff\n",
    "            msg2 = \"the following students have lack of attendance in your subject : \"+l2\n",
    "\n",
    "            mailstu(l3, msg1)  # mail to students\n",
    "            staff_id = staff_mails[b-1]  # pick respective staff's mail_id\n",
    "            mailstaff(staff_id, msg2)  # mail to staff\n"
   ]
  },
  {
   "cell_type": "code",
   "execution_count": null,
   "id": "a89c118e",
   "metadata": {},
   "outputs": [],
   "source": [
    "# for students\n",
    "def mailstu(li, msg):\n",
    "    from_id = 'swarajsolanke02@gmail.com'\n",
    "    pwd = 'Swaraj@123'\n",
    "    s = smtplib.SMTP('smtp.gmail.com', 587, timeout=120)\n",
    "    s.starttls()\n",
    "    s.login(from_id, pwd)\n",
    "    print(s)\n",
    "\n",
    "    # for each student to warn send mail\n",
    "    for i in range(0, len(li)):\n",
    "        to_id = li[i]\n",
    "        message = MIMEMultipart()\n",
    "        message['Subject'] = 'Attendance report'\n",
    "        message.attach(MIMEText(msg, 'plain'))\n",
    "        content = message.as_string()\n",
    "        s.sendmail(from_id, to_id, content)\n",
    "        s.quit()\n",
    "    print(\"mail sent to students\")"
   ]
  },
  {
   "cell_type": "code",
   "execution_count": 19,
   "id": "0c16243c",
   "metadata": {},
   "outputs": [],
   "source": [
    "# for staff\n",
    "def mailstaff(mail_id, msg):\n",
    "    from_id = 'swarajsolanke2702@gmail.com'\n",
    "    pwd = 'veera@123'\n",
    "    to_id = mail_id\n",
    "    message = MIMEMultipart()\n",
    "    message['Subject'] = 'Lack of attendance report'\n",
    "    message.attach(MIMEText(msg, 'plain'))\n",
    "    s = smtplib.SMTP('smtp.gmail.com', 587, timeout=120)\n",
    "    s.starttls()\n",
    "    s.login(from_id, pwd)\n",
    "    content = message.as_string()\n",
    "    s.sendmail(from_id, to_id, content)\n",
    "    s.quit()\n",
    "    print('Mail Sent to staff')"
   ]
  },
  {
   "cell_type": "code",
   "execution_count": 32,
   "id": "1639469a",
   "metadata": {},
   "outputs": [
    {
     "name": "stderr",
     "output_type": "stream",
     "text": [
      "<>:1: SyntaxWarning: \"is\" with a literal. Did you mean \"==\"?\n",
      "<>:1: SyntaxWarning: \"is\" with a literal. Did you mean \"==\"?\n",
      "<>:1: SyntaxWarning: \"is\" with a literal. Did you mean \"==\"?\n",
      "<>:1: SyntaxWarning: \"is\" with a literal. Did you mean \"==\"?\n",
      "C:\\Users\\rajpu\\AppData\\Local\\Temp\\ipykernel_16732\\1711550378.py:1: SyntaxWarning: \"is\" with a literal. Did you mean \"==\"?\n",
      "  while resp is 1:\n",
      "C:\\Users\\rajpu\\AppData\\Local\\Temp\\ipykernel_16732\\1711550378.py:1: SyntaxWarning: \"is\" with a literal. Did you mean \"==\"?\n",
      "  while resp is 1:\n"
     ]
    },
    {
     "name": "stdout",
     "output_type": "stream",
     "text": [
      "1--->DE\n",
      "2--->ML\n",
      "3--->python\n",
      "--->CV\n",
      "saved!\n",
      "saved!\n",
      "1--->DE\n",
      "2--->ML\n",
      "3--->python\n",
      "--->CV\n"
     ]
    }
   ],
   "source": [
    "while resp is 1:\n",
    "    print(\"1--->DE\\n2--->ML\\n3--->python\\n--->CV\")\n",
    "\n",
    "    # enter the correspondingnumber\n",
    "    y = int(input(\"enter subject :\"))\n",
    "\n",
    "    # no.of.absentees for that subject\n",
    "    no_of_absentees = int(input('no.of.absentees :'))\n",
    "\n",
    "    if(no_of_absentees > 1):\n",
    "        x = list(map(int, (input('roll nos :').split(' '))))\n",
    "    else:\n",
    "        x = [int(input('roll no :'))]\n",
    "\n",
    "    # list to hold row of the student in Excel sheet\n",
    "    row_num = []\n",
    "\n",
    "    # list to hold total no.of leaves\n",
    "    # taken by ith student\n",
    "    no_of_days = []\n",
    "\n",
    "    for student in x:\n",
    "\n",
    "        for i in range(2, r+1):\n",
    "\n",
    "            if y == 1:\n",
    "                if sheet.cell(row=i, column=1).value is student:\n",
    "                    m = sheet.cell(row=i, column=3).value\n",
    "                    m = m+1\n",
    "                    sheet.cell(row=i, column=3).value = m\n",
    "                    savefile()\n",
    "                    no_of_days.append(m)\n",
    "                    row_num.append(i)\n",
    "\n",
    "            elif y == 2:\n",
    "                if sheet.cell(row=i, column=1).value is student:\n",
    "                    m = sheet.cell(row=i, column=4).value\n",
    "                    m = m+1\n",
    "                    sheet.cell(row=i, column=4).value = m+1\n",
    "                    no_of_days.append(m)\n",
    "                    row_num.append(i)\n",
    "\n",
    "            elif y == 3:\n",
    "                if sheet.cell(row=i, column=1).value is student:\n",
    "                    m = sheet.cell(row=i, column=5).value\n",
    "                    m = m+1\n",
    "                    sheet.cell(row=i, column=5).value = m+1\n",
    "                    row_num.append(i)\n",
    "                    no_of_days.append(m)\n",
    "            elif y == 4:\n",
    "                if sheet.cell(row=i, column=1).value is student:\n",
    "                    m = sheet.cell(row=i, column=5).value\n",
    "                    m = m+1\n",
    "                    sheet.cell(row=i, column=5).value = m+1\n",
    "                    row_num.append(i)\n",
    "                    no_of_days.append(m)\n",
    "\n",
    "    check(no_of_days, row_num, y)\n",
    "    resp = int(input('another subject ? 1---->yes 0--->no'))"
   ]
  }
 ],
 "metadata": {
  "kernelspec": {
   "display_name": "base",
   "language": "python",
   "name": "python3"
  },
  "language_info": {
   "codemirror_mode": {
    "name": "ipython",
    "version": 3
   },
   "file_extension": ".py",
   "mimetype": "text/x-python",
   "name": "python",
   "nbconvert_exporter": "python",
   "pygments_lexer": "ipython3",
   "version": "3.11.3"
  }
 },
 "nbformat": 4,
 "nbformat_minor": 5
}
